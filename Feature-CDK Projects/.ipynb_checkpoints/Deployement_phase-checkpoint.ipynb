{
 "cells": [
  {
   "cell_type": "code",
   "execution_count": 1,
   "id": "159b9883-91d4-4eb8-a673-c2fe93b9cd10",
   "metadata": {},
   "outputs": [],
   "source": [
    "\n",
    "import pickle"
   ]
  },
  {
   "cell_type": "code",
   "execution_count": 2,
   "id": "cbfa799e-cb9b-481d-9f81-4077138d5281",
   "metadata": {},
   "outputs": [],
   "source": [
    "import pandas as pd"
   ]
  },
  {
   "cell_type": "code",
   "execution_count": 4,
   "id": "b81f24a9-d78c-42eb-a279-1a6bd2acf2d0",
   "metadata": {},
   "outputs": [],
   "source": [
    "\n",
    "\n",
    "dataset = pd.read_csv(\"finaldata.csv\")\n",
    "y = dataset.iloc[:, 24].values\n",
    "\n",
    "dataset1=pd.read_csv(\"finaldata.csv\",index_col=None)\n",
    "df2=dataset1\n",
    "\n",
    "\n",
    "from sklearn.feature_selection import SelectKBest\n",
    "from sklearn.feature_selection import chi2\n",
    "from sklearn.model_selection import train_test_split \n",
    "indep_X=df2.drop('Possible', axis=1)\n",
    "dep_Y=df2['Possible']\n",
    "def selectkbest(indep_X,dep_Y,n):\n",
    "        test = SelectKBest(score_func=chi2, k=n)\n",
    "        fit1= test.fit(indep_X,dep_Y)\n",
    "        selectk_features = fit1.transform(indep_X)\n",
    "        return selectk_features\n",
    "\n",
    "def split_scalar(indep_X,dep_Y):\n",
    "        X_train, X_test, y_train, y_test = train_test_split(indep_X, dep_Y, test_size = 0.25, random_state = 0)\n",
    "        sc = StandardScaler()\n",
    "        X_train = sc.fit_transform(X_train)\n",
    "        X_test = sc.transform(X_test)    \n",
    "        return X_train, X_test, y_train, y_test\n",
    "kbest=selectkbest(indep_X,dep_Y,5)  \n",
    "\n",
    "# Split the data into training and testing sets using the original X and y\n",
    "X_train, X_test, y_train, y_test = train_test_split(kbest, y, test_size=0.2, random_state=42)\n"
   ]
  },
  {
   "cell_type": "code",
   "execution_count": 5,
   "id": "6dfc3a62-064a-4011-bbd8-cdfb6e294185",
   "metadata": {},
   "outputs": [],
   "source": [
    "from sklearn.preprocessing import StandardScaler\n",
    "sc = StandardScaler()\n",
    "X_train_= sc.fit_transform(X_train)\n",
    "X_test_= sc.transform(X_test)"
   ]
  },
  {
   "cell_type": "code",
   "execution_count": 6,
   "id": "521d39a0-cd77-4b71-8854-af9610577018",
   "metadata": {},
   "outputs": [],
   "source": [
    "preinput = sc.transform([[0, 75.5647, 2, 3, 32]])"
   ]
  },
  {
   "cell_type": "code",
   "execution_count": 7,
   "id": "0fc948ef-e9ad-4394-8caf-dcd6bf6bcca7",
   "metadata": {},
   "outputs": [
    {
     "data": {
      "text/plain": [
       "array([[-0.72524591, -1.35087587, -1.60145515, -4.45926795, -4.14794292]])"
      ]
     },
     "execution_count": 7,
     "metadata": {},
     "output_type": "execute_result"
    }
   ],
   "source": [
    "preinput"
   ]
  },
  {
   "cell_type": "code",
   "execution_count": 10,
   "id": "697a771e-1575-438c-9158-d69a563ba4cc",
   "metadata": {},
   "outputs": [],
   "source": [
    "model = pickle.load(open(\"CKD_Finalized_RF_Model.sav\",'rb'))\n"
   ]
  },
  {
   "cell_type": "code",
   "execution_count": 11,
   "id": "291a4ac4-aaab-4318-b915-d6d16c74c52e",
   "metadata": {},
   "outputs": [
    {
     "name": "stdout",
     "output_type": "stream",
     "text": [
      "Future_Prediction=[1]\n"
     ]
    }
   ],
   "source": [
    "Future_Prediction=model.predict(preinput)\n",
    "print(\"Future_Prediction={}\".format(Future_Prediction))"
   ]
  },
  {
   "cell_type": "code",
   "execution_count": null,
   "id": "4d89f393-06e6-40a2-8387-a160b335299e",
   "metadata": {},
   "outputs": [],
   "source": []
  }
 ],
 "metadata": {
  "kernelspec": {
   "display_name": "Python 3 (ipykernel)",
   "language": "python",
   "name": "python3"
  },
  "language_info": {
   "codemirror_mode": {
    "name": "ipython",
    "version": 3
   },
   "file_extension": ".py",
   "mimetype": "text/x-python",
   "name": "python",
   "nbconvert_exporter": "python",
   "pygments_lexer": "ipython3",
   "version": "3.11.8"
  }
 },
 "nbformat": 4,
 "nbformat_minor": 5
}
